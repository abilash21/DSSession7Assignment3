{
 "cells": [
  {
   "cell_type": "markdown",
   "metadata": {},
   "source": [
    "Two balls are drawn at random in succession without replacement from an urn\n",
    "containing 4 red balls and 6 black balls.\n",
    "Find the probabilities of all the possible outcomes."
   ]
  },
  {
   "cell_type": "code",
   "execution_count": null,
   "metadata": {
    "collapsed": true
   },
   "outputs": [],
   "source": [
    "#Total no of red balls = 4\n",
    "#Total no of black balls = 6\n",
    "#Total no of All Balls = 10\n",
    "\n",
    "#Probability of getting red ball = 4/10 = 2/5\n",
    "#Probability of getting black ball = 6/10 = 3/5\n",
    "\n",
    "#Outcomes-1\n",
    "#Probability of getting two red balls?\n",
    "    #Probability of getting first red ball = 2/5\n",
    "    #Probability of getting Second red ball = 3/9 = 1/3 (Here one Red ball is already taken in the first Draw)\n",
    "    #Probability of getting two red balls P(x=red and y=red) = 2/5 *1/3 = 2/15\n",
    "\n",
    "#Outcomes-2    \n",
    "    #Probability of getting two black balls?\n",
    "    #Probability of getting first black ball = 3/5\n",
    "    #Probability of getting Second black ball = 5/9 (Here one black ball is already taken in the first Draw)\n",
    "    #Probability of getting two red balls P(x=black and y=black) = 3/5 *5/9 = 15/45 =1/3\n",
    "\n",
    "#Outcome-3\n",
    "    #Probability of getting one red and one black ball?\n",
    "    #Probability of getting red ball first = 2/5\n",
    "    #Probability of getting black ball second = 6/9 = 2/3 (Here one  ball is already taken in the first Draw)\n",
    "    #Probability of getting first red ball and second black ball P(x=red and y= black) = 2/5*2/3 = 4/15\n",
    "\n",
    "#Outcome-4\n",
    "    #Probability of getting one black and one red ball?\n",
    "    #Probability of getting black ball first = 3/5\n",
    "    #Probability of getting red ball second = 4/9 (Here one  ball is already taken in the first Draw)\n",
    "    #Probability of getting first black ball and second red ball P(x=black and y= red) = 3/5*4/9 = 20/45 = 4/9\n"
   ]
  }
 ],
 "metadata": {
  "kernelspec": {
   "display_name": "Python 3",
   "language": "python",
   "name": "python3"
  },
  "language_info": {
   "codemirror_mode": {
    "name": "ipython",
    "version": 3
   },
   "file_extension": ".py",
   "mimetype": "text/x-python",
   "name": "python",
   "nbconvert_exporter": "python",
   "pygments_lexer": "ipython3",
   "version": "3.6.3"
  }
 },
 "nbformat": 4,
 "nbformat_minor": 2
}
